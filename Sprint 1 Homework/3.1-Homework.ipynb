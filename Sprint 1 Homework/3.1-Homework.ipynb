{
 "cells": [
  {
   "attachments": {},
   "cell_type": "markdown",
   "metadata": {},
   "source": [
    "## Part 2 of Homework\n",
    "\n",
    "1. An algorithm is a series of steps to solve a problem. \n",
    "\n",
    "2. Python is considered to be a high level language because of its \n",
    "characteristics of being shorter and easier to read, takes less time to write, and requires to be translated into machine language for computers to understand. \n",
    "\n",
    "3. Formal language. \n",
    "\n",
    "4. Numbers & operators \n",
    "\n",
    "5. When the code is grammatically correct but does not make sense. \n",
    "\n",
    "6. Complexity is the enemy of efficiency.\n",
    "\n",
    "7. FALSE, TRUE, pass, None, else\n",
    "\n",
    "8. Article name: How to build your own Neural Network from scratch in Python\n",
    "    https://towardsdatascience.com/how-to-build-your-own-neural-network-from-scratch-in-python-68998a08e4f6"
   ]
  },
  {
   "cell_type": "code",
   "execution_count": 2,
   "metadata": {},
   "outputs": [
    {
     "name": "stdout",
     "output_type": "stream",
     "text": [
      "The length of a is 6\n",
      "Index value of 4th character = e\n"
     ]
    }
   ],
   "source": [
    "# Part 3 of HW: Broken up into three different code blocks\n",
    "\n",
    "# Write multiline comment: name, favorite food, and dream job \n",
    "\"\"\" \n",
    "Jessica Levis\n",
    "Unagi \n",
    "Any job where I can work remote in another country\n",
    "\"\"\"\n",
    "\n",
    "# Assign 5 different data types to 5 different variables\n",
    "# Variable types: a = str, b = int, c = list, d = Boolean, e = range\n",
    "\n",
    "a = \"gender\"\n",
    "b = 20\n",
    "c = [\"shiba\", \"shikoku\", \"akita\"]\n",
    "d = False\n",
    "e = range(10)\n",
    "\n",
    "# Print length of string variable\n",
    "print(\"The length of a is\", len(a))\n",
    "\n",
    "# Print index value of 4th character in string\n",
    "print(\"Index value of 4th character =\", a[4])"
   ]
  },
  {
   "cell_type": "code",
   "execution_count": 1,
   "metadata": {},
   "outputs": [
    {
     "name": "stdout",
     "output_type": "stream",
     "text": [
      "Learn Data Analytics and Python\n",
      "ing Data Analytics \n",
      "Learning Data Analytics and Python is Great!\n",
      "Yes, savvy contains \"Python\"\n"
     ]
    }
   ],
   "source": [
    "\n",
    "# Create 'savvy' variable\n",
    "savvy = \"Learning Data Analytics and Python is Awesome!\"\n",
    "\n",
    "# Return a range of characters that slices the above string from the beginning of  \"ing\" up to before \"and\"\n",
    "# I'm not sure if this is what you meant in what you wanted returned for this string. I took it as return 'Learn Data Analytics and Python' \n",
    "print(savvy[:5] + \" \" + savvy[9:34])\n",
    "\n",
    "#or are you wanting\n",
    "print(savvy[5:24])\n",
    "\n",
    "#Replace 'Awesome' with 'Great' in string\n",
    "print(savvy.replace(\"Awesome\", \"Great\"))\n",
    "\n",
    "# Test and print the savvy string to see it contains \"Python\"\n",
    "if \"Python\" in savvy:\n",
    "    print('Yes, savvy contains \"Python\"')\n"
   ]
  },
  {
   "cell_type": "code",
   "execution_count": 3,
   "metadata": {},
   "outputs": [
    {
     "name": "stdout",
     "output_type": "stream",
     "text": [
      "Hi my name is Jessica, I am 5 feet 6 inches and 26 years old today.\n",
      "26.0\n"
     ]
    }
   ],
   "source": [
    "# Create & assign 3 new variables\n",
    "name, age, length = \"Jessica\", \"26 years\", \"5 feet 6 inches\"\n",
    "\n",
    "# Format a new string called 'miniBio' using variables in curly brackets\n",
    "miniBio = (\n",
    "    f\"Hi my name is {name}, \"\n",
    "    f\"I am {length} and {age} old today.\"\n",
    ")\n",
    "\n",
    "# Print the miniBio string \n",
    "print(miniBio)\n",
    "\n",
    "# Cast & print age variable to a float\n",
    "age = float(26)\n",
    "print(age)\n"
   ]
  }
 ],
 "metadata": {
  "kernelspec": {
   "display_name": "Python 3 (ipykernel)",
   "language": "python",
   "name": "python3"
  },
  "language_info": {
   "codemirror_mode": {
    "name": "ipython",
    "version": 3
   },
   "file_extension": ".py",
   "mimetype": "text/x-python",
   "name": "python",
   "nbconvert_exporter": "python",
   "pygments_lexer": "ipython3",
   "version": "3.11.1"
  },
  "vscode": {
   "interpreter": {
    "hash": "b34ede01d81fec1e4bfaa8b72a495b9f5a0f08fdd35af1450f968fec728efb6d"
   }
  }
 },
 "nbformat": 4,
 "nbformat_minor": 2
}
