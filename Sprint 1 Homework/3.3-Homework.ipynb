{
 "cells": [
  {
   "attachments": {},
   "cell_type": "markdown",
   "metadata": {},
   "source": [
    "# 3.3 Python Homework\n",
    "\n",
    "## Flow Control Methods"
   ]
  },
  {
   "cell_type": "code",
   "execution_count": 18,
   "metadata": {},
   "outputs": [
    {
     "name": "stdout",
     "output_type": "stream",
     "text": [
      "Renting a car is more affordable\n",
      "Renting a car is more affordable.\n"
     ]
    }
   ],
   "source": [
    "# Part 1: Create an if statement \n",
    "if age >= 25:\n",
    "    print(\"Renting a car is more affordable\")\n",
    "elif age < 25:\n",
    "    print(\"Renting a car is very expensive\")\n",
    "\n",
    "# Part 2: Create and chain an if-else  statement\n",
    "if age >= 25:\n",
    "    print(\"Renting a car is more affordable.\")\n",
    "elif 18 <= age < 25:\n",
    "    print(\"Renting a car is very expensive.\")\n",
    "else:\n",
    "    print(\"You cannot legally rent a car.\")"
   ]
  },
  {
   "cell_type": "code",
   "execution_count": null,
   "metadata": {},
   "outputs": [],
   "source": [
    "# Part 3: Loop over statement and print out all vowels\n",
    "\n",
    "\n",
    "# Part 4: Write nested loop\n",
    "\n",
    "# Part 5: Use range as a loop to calculate the sum of all the numbers from 1 to 100\n",
    "\n",
    "# Part 6: Print the second item in this fruits list\n",
    "\n",
    "# Part 7: Change the value from \"apple\" to \"kiwi\", in the fruits list\n",
    "\n",
    "# Part 8: Use the append method to add \"orange\" to the fruits list\n",
    "\n",
    "# Part 9: Use the insert method to add \"lemon\" as the second item in the fruits list\n",
    "\n",
    "# Part 10: Use the remove method to remove \"banana\" from the fruits list\n",
    "\n",
    "# Part 11: Use negative indexing to print the 3rd and 2nd to last items in the list\n",
    "\n",
    "# Part 12: Use a range of indexes to print the third, fourth, and fifth item in the list\n",
    "\n",
    "# Part 13: Use the correct syntax to print the number of items in the list\n",
    "\n",
    "# Part 14: Use the correct syntax to sort this list in reverse order\n"
   ]
  }
 ],
 "metadata": {
  "kernelspec": {
   "display_name": "Python 3",
   "language": "python",
   "name": "python3"
  },
  "language_info": {
   "codemirror_mode": {
    "name": "ipython",
    "version": 3
   },
   "file_extension": ".py",
   "mimetype": "text/x-python",
   "name": "python",
   "nbconvert_exporter": "python",
   "pygments_lexer": "ipython3",
   "version": "3.11.1"
  },
  "orig_nbformat": 4,
  "vscode": {
   "interpreter": {
    "hash": "b34ede01d81fec1e4bfaa8b72a495b9f5a0f08fdd35af1450f968fec728efb6d"
   }
  }
 },
 "nbformat": 4,
 "nbformat_minor": 2
}
