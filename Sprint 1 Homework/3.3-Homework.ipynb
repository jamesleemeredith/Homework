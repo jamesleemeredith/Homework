{
 "cells": [
  {
   "attachments": {},
   "cell_type": "markdown",
   "metadata": {},
   "source": [
    "# 3.3 Python Homework\n",
    "\n",
    "## Flow Control Methods\n",
    "\n",
    "Broken down into different code blocks"
   ]
  },
  {
   "cell_type": "code",
   "execution_count": 4,
   "metadata": {},
   "outputs": [
    {
     "name": "stdout",
     "output_type": "stream",
     "text": [
      "Renting a car is very expensive\n",
      "Renting a car is very expensive.\n"
     ]
    }
   ],
   "source": [
    "# Part 1: Create an if statement \n",
    "if age >= 25:\n",
    "    print(\"Renting a car is more affordable\")\n",
    "elif age < 25:\n",
    "    print(\"Renting a car is very expensive\")\n",
    "\n",
    "# Part 2: Create and chain an if-else  statement\n",
    "if age >= 25:\n",
    "    print(\"Renting a car is more affordable.\")\n",
    "elif 18 <= age < 25:\n",
    "    print(\"Renting a car is very expensive.\")\n",
    "else:\n",
    "    print(\"You cannot legally rent a car.\")"
   ]
  },
  {
   "cell_type": "code",
   "execution_count": 10,
   "metadata": {},
   "outputs": [
    {
     "name": "stdout",
     "output_type": "stream",
     "text": [
      "Total number of characters in this string: 35\n",
      "e\n",
      "u\n",
      "i\n",
      "o\n",
      "o\n",
      "u\n",
      "o\n",
      "e\n",
      "e\n",
      "a\n",
      "o\n",
      "gunmetal blue trousers\n",
      "cerise trousers\n",
      "fuchsia trousers\n",
      "burnt sienna trousers\n",
      "Dark Sapphire trousers\n",
      "aqua trousers\n",
      "auburn trousers\n",
      "maple trousers\n",
      "gunmetal blue blouse\n",
      "cerise blouse\n",
      "fuchsia blouse\n",
      "burnt sienna blouse\n",
      "Dark Sapphire blouse\n",
      "aqua blouse\n",
      "auburn blouse\n",
      "maple blouse\n",
      "gunmetal blue bandana\n",
      "cerise bandana\n",
      "fuchsia bandana\n",
      "burnt sienna bandana\n",
      "Dark Sapphire bandana\n",
      "aqua bandana\n",
      "auburn bandana\n",
      "maple bandana\n",
      "gunmetal blue cumber band\n",
      "cerise cumber band\n",
      "fuchsia cumber band\n",
      "burnt sienna cumber band\n",
      "Dark Sapphire cumber band\n",
      "aqua cumber band\n",
      "auburn cumber band\n",
      "maple cumber band\n",
      "gunmetal blue blazer\n",
      "cerise blazer\n",
      "fuchsia blazer\n",
      "burnt sienna blazer\n",
      "Dark Sapphire blazer\n",
      "aqua blazer\n",
      "auburn blazer\n",
      "maple blazer\n",
      "gunmetal blue vest\n",
      "cerise vest\n",
      "fuchsia vest\n",
      "burnt sienna vest\n",
      "Dark Sapphire vest\n",
      "aqua vest\n",
      "auburn vest\n",
      "maple vest\n",
      "gunmetal blue french beret\n",
      "cerise french beret\n",
      "fuchsia french beret\n",
      "burnt sienna french beret\n",
      "Dark Sapphire french beret\n",
      "aqua french beret\n",
      "auburn french beret\n",
      "maple french beret\n",
      "gunmetal blue scarf\n",
      "cerise scarf\n",
      "fuchsia scarf\n",
      "burnt sienna scarf\n",
      "Dark Sapphire scarf\n",
      "aqua scarf\n",
      "auburn scarf\n",
      "maple scarf\n",
      "gunmetal blue stole\n",
      "cerise stole\n",
      "fuchsia stole\n",
      "burnt sienna stole\n",
      "Dark Sapphire stole\n",
      "aqua stole\n",
      "auburn stole\n",
      "maple stole\n"
     ]
    }
   ],
   "source": [
    "# Part 3: Loop over string to (1) count all the characters in the string and (2) print out all the vowels\n",
    "\n",
    "## Define the string\n",
    "string = \"The quick brown fox jumps over the lazy dog\";\n",
    "\n",
    "## Initialize the variable count to 0\n",
    "count = 0;\n",
    "## Iterate throughout the string for each character but not to include the spaces. Add the + 1 b/c it will automatically index at 0 for the beginning\n",
    "for i in range(0,len(string)):\n",
    "    if(string[i] != ' '):\n",
    "        count = count + 1;\n",
    "print(\"Total number of characters in this string: \" + str(count));\n",
    "\n",
    "vowels = \"aeiouAEIOU\"\n",
    "for letters in string:\n",
    "    if letters in vowels:\n",
    "        print(letters)\n",
    "\n",
    "\n",
    "# Part 4: Write a nested loop that prints out every piece of clothing from the `couture` list, in every fashionable color from the `panettone` set:\n",
    "couture = [\"trousers\", \"blouse\", \"bandana\", \"cumber band\", \"blazer\", \"vest\", \"french beret\", \"scarf\", \"stole\"]\n",
    "panettone = {\"cerise\", \"fuchsia\", \"aqua\", \"maple\", \"auburn\", \"burnt sienna\", \"gunmetal blue\", \"Dark Sapphire\"}\n",
    "\n",
    "for x in couture:\n",
    "    for y in panettone:\n",
    "        print(y,x)\n",
    "\n"
   ]
  },
  {
   "cell_type": "code",
   "execution_count": 35,
   "metadata": {},
   "outputs": [
    {
     "name": "stdout",
     "output_type": "stream",
     "text": [
      "5050\n",
      "banana\n"
     ]
    }
   ],
   "source": [
    "# Part 5: Use range as a loop to calculate the sum of all the numbers from 1 to 100\n",
    "sum = 0\n",
    "for i in range(1,101):\n",
    "    sum += i\n",
    "print(sum)\n",
    "\n",
    "# Part 6: Print the second item in this fruits list\n",
    "fruits = [\"apple\", \"banana\", \"cherry\"]\n",
    "print(fruits[1])\n",
    "\n",
    "# Part 7: Change the value from \"apple\" to \"kiwi\", in the fruits list\n",
    "fruits[0] = \"kiwi\"\n",
    "\n",
    "# Part 8: Use the append method to add \"orange\" to the fruits list\n",
    "fruits.append(\"orange\")\n",
    "\n",
    "# Part 9: Use the insert method to add \"lemon\" as the second item in the fruits list\n",
    "fruits.insert(1, \"lemon\")\n",
    "\n",
    "# Part 10: Use the remove method to remove \"banana\" from the fruits list\n",
    "fruits.remove(\"banana\")\n"
   ]
  },
  {
   "cell_type": "code",
   "execution_count": null,
   "metadata": {},
   "outputs": [],
   "source": [
    "# Part 11: Use negative indexing to print the 3rd and 2nd to last items in the list: [\"apple\", \"banana\", \"cherry\", \"orange\", \"kiwi\", \"melon\", \"mango\"]\n",
    "fruits = [\"apple\", \"banana\", \"cherry\", \"orange\", \"kiwi\", \"melon\", \"mango\"]\n",
    "print(fruits[-3:-1])\n",
    "\n",
    "# Part 12: Use a range of indexes to print the third, fourth, and fifth item in the list: [\"apple\", \"banana\", \"cherry\", \"orange\", \"kiwi\", \"melon\", \"mango\"]\n",
    "print(fruits[3:6])\n",
    "# I took this as the 3rd item in the list is 'orange' as it starts at 0 & so the 5th item in the list would be 'melon'. I can fix if I interpreted this incorrectly.\n",
    "\n",
    "# Part 13: Use the correct syntax to print the number of items in the list: [\"apple\", \"banana\", \"cherry\", \"orange\", \"kiwi\", \"melon\", \"mango\"]\n",
    "print(len(fruits))\n",
    "\n",
    "# Part 14: Use the correct syntax to sort this list in reverse order: [\"apple\", \"banana\", \"cherry\", \"orange\", \"kiwi\", \"melon\", \"mango\"]\n",
    "fruits.sort(reverse=True)"
   ]
  }
 ],
 "metadata": {
  "kernelspec": {
   "display_name": "Python 3",
   "language": "python",
   "name": "python3"
  },
  "language_info": {
   "codemirror_mode": {
    "name": "ipython",
    "version": 3
   },
   "file_extension": ".py",
   "mimetype": "text/x-python",
   "name": "python",
   "nbconvert_exporter": "python",
   "pygments_lexer": "ipython3",
   "version": "3.11.1"
  },
  "orig_nbformat": 4,
  "vscode": {
   "interpreter": {
    "hash": "b34ede01d81fec1e4bfaa8b72a495b9f5a0f08fdd35af1450f968fec728efb6d"
   }
  }
 },
 "nbformat": 4,
 "nbformat_minor": 2
}
