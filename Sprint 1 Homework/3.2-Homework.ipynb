{
 "cells": [
  {
   "attachments": {},
   "cell_type": "markdown",
   "metadata": {},
   "source": [
    "## 3.2 Python Homework\n",
    "### Advanced / Compound Data Types\n",
    "\n",
    "Broken into different code blocks for each section\n",
    "\n",
    "#### Part 2 of Homework"
   ]
  },
  {
   "cell_type": "code",
   "execution_count": 9,
   "metadata": {},
   "outputs": [
    {
     "name": "stdout",
     "output_type": "stream",
     "text": [
      "7\n"
     ]
    }
   ],
   "source": [
    "# Create a list of at least 5 elements of mixed data types\n",
    "list = ['name', 15, True, 42.3, 'animal']\n",
    "\n",
    "# Replace part of list with something else: Replacing Index 2 with False\n",
    "list[2] = False\n",
    "\n",
    "# Append or insert several more items to the list. Appended \"Ducati\" to end and inserted \"Yamaha\" to beginning\n",
    "list.append(\"Ducati\")\n",
    "list.insert(0,\"Yamaha\")\n",
    "\n",
    "# Find and print the length of the list\n",
    "ListLength = len(list)\n",
    "print(ListLength)\n",
    "\n",
    "# Slice a sub-section of the 1st list, and save it to a different 2nd list\n",
    "\n",
    "\n",
    "# Print the 2nd list\n",
    "\n",
    "# Extend your original list with the 2nd list sliced above\n",
    "\n",
    "# Create a new list called \"simList\" containing at least 5 elements of the same data type, either string, integer, float, or Boolean.\n",
    "\n",
    "# Sort \"simList\", and print the list\n",
    "\n",
    "# Copy the \"simList\" list to another 3rd list\n",
    "\n",
    "# Add the 2nd and 3rd lists together into a 4th list"
   ]
  },
  {
   "attachments": {},
   "cell_type": "markdown",
   "metadata": {},
   "source": [
    "## Part 3 of Homework"
   ]
  },
  {
   "cell_type": "code",
   "execution_count": 11,
   "metadata": {},
   "outputs": [
    {
     "name": "stdout",
     "output_type": "stream",
     "text": [
      "('Japan', 'Italy', 26, 'Costa Rica', 43.9, 'Japan', 'Italy', 26, 'Costa Rica', 43.9, 'Japan', 'Italy', 26, 'Costa Rica', 43.9)\n",
      "Italy\n"
     ]
    }
   ],
   "source": [
    "# Create a tuple of about 5 elements\n",
    "x = (\"Japan\", \"Italy\", 26, \"Costa Rica\", 43.9 )\n",
    "\n",
    "# Multiply your tuple by 3 and save it to a new 2nd tuple\n",
    "y = x * 3\n",
    "\n",
    "# Access and print the 12th element from the 2nd tuple\n",
    "print(y[11])\n",
    "\n",
    "# Sort the 2nd tuple and print it"
   ]
  },
  {
   "cell_type": "code",
   "execution_count": null,
   "metadata": {},
   "outputs": [],
   "source": [
    "# Part 4: Create a set of about 3 elements"
   ]
  },
  {
   "cell_type": "code",
   "execution_count": null,
   "metadata": {},
   "outputs": [],
   "source": [
    "# Part 5: Create a dictionary with at least 5 values of different data types"
   ]
  }
 ],
 "metadata": {
  "kernelspec": {
   "display_name": "Python 3",
   "language": "python",
   "name": "python3"
  },
  "language_info": {
   "codemirror_mode": {
    "name": "ipython",
    "version": 3
   },
   "file_extension": ".py",
   "mimetype": "text/x-python",
   "name": "python",
   "nbconvert_exporter": "python",
   "pygments_lexer": "ipython3",
   "version": "3.11.1"
  },
  "orig_nbformat": 4,
  "vscode": {
   "interpreter": {
    "hash": "b34ede01d81fec1e4bfaa8b72a495b9f5a0f08fdd35af1450f968fec728efb6d"
   }
  }
 },
 "nbformat": 4,
 "nbformat_minor": 2
}
