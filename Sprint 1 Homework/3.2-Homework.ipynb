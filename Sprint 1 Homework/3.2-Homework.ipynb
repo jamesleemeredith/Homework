{
 "cells": [
  {
   "attachments": {},
   "cell_type": "markdown",
   "metadata": {},
   "source": [
    "## 3.2 Python Homework\n",
    "### Advanced / Compound Data Types\n",
    "\n",
    "Broken into different code blocks for each section\n",
    "\n",
    "#### Part 2 of Homework"
   ]
  },
  {
   "cell_type": "code",
   "execution_count": 34,
   "metadata": {},
   "outputs": [
    {
     "name": "stdout",
     "output_type": "stream",
     "text": [
      "7\n",
      "['name', 15, False, 42.3]\n",
      "[2, 4, 12, 37, 509]\n",
      "['name', 15, False, 42.3, 12, 2, 37, 4, 509]\n"
     ]
    }
   ],
   "source": [
    "# Create a list of at least 5 elements of mixed data types\n",
    "list = ['name', 15, True, 42.3, 'animal']\n",
    "\n",
    "# Replace part of list with something else: Replacing Index 2 with False\n",
    "list[2] = False\n",
    "\n",
    "# Append or insert several more items to the list. Appended \"Ducati\" to end and inserted \"Yamaha\" to beginning\n",
    "list.append(\"Ducati\")\n",
    "list.insert(0,\"Yamaha\")\n",
    "\n",
    "# Find and print the length of the list\n",
    "ListLength = len(list)\n",
    "print(ListLength)\n",
    "\n",
    "# Slice a sub-section of the 1st list, and save it to a different 2nd list\n",
    "list2 = list[1:5]\n",
    "\n",
    "# Print the 2nd list\n",
    "print(list2)\n",
    "\n",
    "# Extend your original list with the 2nd list sliced above\n",
    "list.extend(list2)\n",
    "\n",
    "# Create a new list called \"simList\" containing at least 5 elements of the same data type, either string, integer, float, or Boolean.\n",
    "simList = [12, 2, 37, 4, 509]\n",
    "\n",
    "# Sort \"simList\", and print the list\n",
    "print(sorted(simList))\n",
    "\n",
    "# Copy the \"simList\" list to another 3rd list\n",
    "import copy\n",
    "list3 = copy.deepcopy(simList)\n",
    "\n",
    "# Add the 2nd and 3rd lists together into a 4th list\n",
    "list4 = list2 + list3\n"
   ]
  },
  {
   "attachments": {},
   "cell_type": "markdown",
   "metadata": {},
   "source": [
    "## Part 3 of Homework"
   ]
  },
  {
   "cell_type": "code",
   "execution_count": 65,
   "metadata": {},
   "outputs": [
    {
     "name": "stdout",
     "output_type": "stream",
     "text": [
      "('Japan', 'Italy', 'Dominican Republic', 'Costa Rica', 'United States', 'Japan', 'Italy', 'Dominican Republic', 'Costa Rica', 'United States', 'Japan', 'Italy', 'Dominican Republic', 'Costa Rica', 'United States')\n",
      "Italy\n",
      "['Costa Rica', 'Costa Rica', 'Costa Rica', 'Dominican Republic', 'Dominican Republic', 'Dominican Republic', 'Italy', 'Italy', 'Italy', 'Japan', 'Japan', 'Japan', 'United States', 'United States', 'United States']\n",
      "Italy Dominican Republic Costa Rica United States\n",
      "(50,)\n",
      "('Japan', 'Italy', 'Dominican Republic', 'Costa Rica', 'United States', 'Japan', 'Italy', 'Dominican Republic', 'Costa Rica', 'United States', 'Japan', 'Italy', 'Dominican Republic', 'Costa Rica', 'United States', 'Italy', 'Dominican Republic', 'Costa Rica', 'United States')\n"
     ]
    }
   ],
   "source": [
    "# Create a tuple of about 5 elements\n",
    "tup1 = (\"Japan\", \"Italy\", \"Dominican Republic\", \"Costa Rica\", \"United States\" )\n",
    "\n",
    "# Multiply your tuple by 3 and save it to a new 2nd tuple\n",
    "tup2 = tup1 * 3\n",
    "print(tup2)\n",
    "\n",
    "# Access and print the 12th element from the 2nd tuple\n",
    "print(tup2[11])\n",
    "\n",
    "# Sort the 2nd tuple and print it\n",
    "print(sorted(tup2))\n",
    "\n",
    "# Copy 4 specific elements from your 2nd tuple to a new 3nd tuple\n",
    "tup3 = tup2[1:5]\n",
    "\n",
    "# Unpack the 3rd tuple into 4 variables and print these variables\n",
    "a = tup3[0]\n",
    "b = tup3[1]\n",
    "c = tup3[2]\n",
    "d = tup3[3]\n",
    "print(a, b, c, d)\n",
    "\n",
    "# Create a 4th tuple with single item 50 and print this tuple\n",
    "tup4 = (50,)\n",
    "print(tup4)\n",
    "\n",
    "# Add the 2nd and 3rd tuple together into a 5th tuple and print the tuple\n",
    "tup5 = tup2 + tup3\n",
    "print(tup5)"
   ]
  },
  {
   "attachments": {},
   "cell_type": "markdown",
   "metadata": {},
   "source": [
    "## Part 4 of Homework"
   ]
  },
  {
   "cell_type": "code",
   "execution_count": 57,
   "metadata": {},
   "outputs": [
    {
     "name": "stdout",
     "output_type": "stream",
     "text": [
      "{1, 2, 3, 'orange', 'bannana', 'apple'}\n",
      "set()\n",
      "{1, 2, 3, 'horse', 'bike', 'orange', 'house', 'bannana'}\n"
     ]
    }
   ],
   "source": [
    "# Create a set of about 3 elements\n",
    "set = {1, 2, 3}\n",
    "\n",
    "# Add a list of fruits to the above set and print the result\n",
    "set.add(\"apple\")\n",
    "set.add(\"bannana\")\n",
    "set.add(\"orange\")\n",
    "print(set)\n",
    "\n",
    "# Add a car element to your set\n",
    "set.add(\"kia\")\n",
    "\n",
    "# Create a 2nd set with a few odd items\n",
    "set2 = {\"horse\", \"house\", \"bike\"}\n",
    "\n",
    "# Save the union of 1st set and 2nd set to a 3rd set\n",
    "set3 = set.union(set2)\n",
    "\n",
    "# Pop an element from the 2nd set, and print the remainder of the set\n",
    "set2.pop()\n",
    "\n",
    "# Clear the 1st set and print the result\n",
    "set.clear()\n",
    "print(set)\n",
    "\n",
    "# Discard an element, and remove another element from the 3rd set\n",
    "set3.discard(\"kia\")\n",
    "set3.remove(\"apple\")\n",
    "\n",
    "# Print the remainder of the 3rd set\n",
    "print(set3)"
   ]
  },
  {
   "attachments": {},
   "cell_type": "markdown",
   "metadata": {},
   "source": [
    "## Part 5 of Homework"
   ]
  },
  {
   "cell_type": "code",
   "execution_count": 48,
   "metadata": {},
   "outputs": [
    {
     "name": "stdout",
     "output_type": "stream",
     "text": [
      "100\n",
      "{'a': 'Jessica', 'b': 100, 'c': 100.4, 'd': False, 'e': range(0, 7)}\n",
      "dict_keys(['a', 'b', 'c', 'd', 'e', 'f', 'g'])\n",
      "dict_values(['Jessica', 100, 100.4, False, range(0, 7), 'blue', [1, 3, 5, 7, 11]])\n",
      "{'a': 'Jessica', 'b': 100, 'd': False, 'e': range(0, 7), 'f': 'blue', 'g': [1, 3, 5, 7, 11]}\n",
      "{}\n"
     ]
    }
   ],
   "source": [
    "# Create a dictionary with at least 5 values of different data types\n",
    "dict = {\"a\":\"name\", \"b\":100, \"c\":100.4, \"d\":False, \"e\":range(7)}\n",
    "\n",
    "# Print out 1 value\n",
    "print(dict[\"b\"])\n",
    "\n",
    "# Replace any one value in your dictionary with your name\n",
    "dict.update({\"a\": \"Jessica\"})\n",
    "print(dict)\n",
    "\n",
    "# Add your favorite color to the dictionary\n",
    "dict[\"f\"] = \"blue\"\n",
    "\n",
    "# Add a list, tuple or set to your dictionary\n",
    "dict[\"g\"] = [ 1, 3, 5, 7, 11]\n",
    "\n",
    "# Print a list of the dictionary keys\n",
    "print(dict.keys())\n",
    "\n",
    "# Print a list of the dictionary values\n",
    "print(dict.values())\n",
    "\n",
    "# Copy your 1st dictionary into a 2nd dictionary\n",
    "dict2 = dict.copy()\n",
    "\n",
    "# Pop an item from the 2nd dictionary, and print the dictionary\n",
    "dict2.pop(\"c\")\n",
    "print(dict2)\n",
    "\n",
    "# Remove all the elements from the 2nd dictionary and print the result\n",
    "dict2.clear()\n",
    "print(dict2)"
   ]
  }
 ],
 "metadata": {
  "kernelspec": {
   "display_name": "Python 3",
   "language": "python",
   "name": "python3"
  },
  "language_info": {
   "codemirror_mode": {
    "name": "ipython",
    "version": 3
   },
   "file_extension": ".py",
   "mimetype": "text/x-python",
   "name": "python",
   "nbconvert_exporter": "python",
   "pygments_lexer": "ipython3",
   "version": "3.11.1"
  },
  "orig_nbformat": 4,
  "vscode": {
   "interpreter": {
    "hash": "b34ede01d81fec1e4bfaa8b72a495b9f5a0f08fdd35af1450f968fec728efb6d"
   }
  }
 },
 "nbformat": 4,
 "nbformat_minor": 2
}
