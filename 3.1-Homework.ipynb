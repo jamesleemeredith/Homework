{
 "cells": [
  {
   "attachments": {},
   "cell_type": "markdown",
   "metadata": {},
   "source": [
    "1. An algorithm is a series of steps to solve a problem. \n",
    "\n",
    "2. Python is considered to be a high level language because of its \n",
    "characteristics of being shorter and easier to read, takes less time to write, and requires to be translated into machine language for computers to understand. \n",
    "\n",
    "3. Formal language. \n",
    "\n",
    "4. \n",
    "\n",
    "5. When the code is grammatically correct but does not make sense. \n",
    "\n",
    "6. Complexity is the enemy of efficiency.\n",
    "\n",
    "7. \n",
    "\n",
    "8. "
   ]
  },
  {
   "cell_type": "code",
   "execution_count": null,
   "metadata": {},
   "outputs": [],
   "source": [
    "# Jessica Levis\n",
    "# Sashimi \n",
    "# Any job where I can work remote in another country\n",
    "\n",
    "# Assign 5 different data types to 5 different variables\n"
   ]
  }
 ],
 "metadata": {
  "language_info": {
   "name": "python"
  },
  "orig_nbformat": 4
 },
 "nbformat": 4,
 "nbformat_minor": 2
}
