{
 "cells": [
  {
   "cell_type": "code",
   "execution_count": null,
   "metadata": {},
   "outputs": [],
   "source": []
  },
  {
   "cell_type": "markdown",
   "metadata": {},
   "source": [
    "<u> Part 2 of Homework <u>\n",
    "\n",
    "1. An algorithm is a series of steps to solve a problem. \n",
    "\n",
    "2. Python is considered to be a high level language because of its \n",
    "characteristics of being shorter and easier to read, takes less time to write, and requires to be translated into machine language for computers to understand. \n",
    "\n",
    "3. Formal language. \n",
    "\n",
    "4. Numbers & operators \n",
    "\n",
    "5. When the code is grammatically correct but does not make sense. \n",
    "\n",
    "6. Complexity is the enemy of efficiency.\n",
    "\n",
    "7. FALSE, TRUE, pass, None, else\n",
    "\n",
    "8. Article name: How to build your own Neural Network from scratch in Python\n",
    "    https://towardsdatascience.com/how-to-build-your-own-neural-network-from-scratch-in-python-68998a08e4f6"
   ]
  },
  {
   "cell_type": "code",
   "execution_count": 10,
   "metadata": {},
   "outputs": [
    {
     "name": "stdout",
     "output_type": "stream",
     "text": [
      "The length of a is   6\n"
     ]
    }
   ],
   "source": [
    "# Part 3 of HW\n",
    "\n",
    "# Jessica Levis\n",
    "# Sashimi \n",
    "# Any job where I can work remote in another country\n",
    "\n",
    "# Assign 5 different data types to 5 different variables\n",
    "\n",
    "a = \"Gender\"\n",
    "b = 20\n",
    "c = [\"Shiba\", \"Shikoku\", \"Akita\"]\n",
    "d = False\n",
    "e = range(10)\n",
    "\n",
    "#Variable types: a = str, b = int, c = list, d = Boolean, e = range\n",
    "\n",
    "#print length of string variable\n",
    "print(\"The length of a is  \", len(a))\n",
    "\n",
    "\n"
   ]
  }
 ],
 "metadata": {
  "kernelspec": {
   "display_name": "Python 3 (ipykernel)",
   "language": "python",
   "name": "python3"
  },
  "language_info": {
   "codemirror_mode": {
    "name": "ipython",
    "version": 3
   },
   "file_extension": ".py",
   "mimetype": "text/x-python",
   "name": "python",
   "nbconvert_exporter": "python",
   "pygments_lexer": "ipython3",
   "version": "3.11.1"
  },
  "vscode": {
   "interpreter": {
    "hash": "b34ede01d81fec1e4bfaa8b72a495b9f5a0f08fdd35af1450f968fec728efb6d"
   }
  }
 },
 "nbformat": 4,
 "nbformat_minor": 2
}
