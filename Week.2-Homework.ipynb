{
 "cells": [
  {
   "attachments": {},
   "cell_type": "markdown",
   "metadata": {},
   "source": [
    "#Week 2 Homework Questions:\n",
    "\n",
    "1. Python is considered to be a high level programming language. \n",
    "\n",
    "2. A natural language is a mostly spoken language that forms on its own, such as slang. \n",
    "\n",
    "3. Python is a formal language. \n",
    "\n",
    "4. An algorithm is a series of steps to solve a problem.\n",
    "\n",
    "5. Python is considered to be a high level language because of its \n",
    "characteristics of being shorter and easier to read, takes less time to write, and requires to be translated into machine language for computers to understand.\n",
    "\n",
    "6. A semantic error is when code is grammatically correct but doesn't make any sense; it does not produce the expected results.\n",
    "\n",
    "7. Complexity is the enemy of efficiency."
   ]
  },
  {
   "cell_type": "code",
   "execution_count": 1,
   "metadata": {},
   "outputs": [
    {
     "name": "stdout",
     "output_type": "stream",
     "text": [
      "Hello World!\n"
     ]
    }
   ],
   "source": [
    "#Print a basic greeting\n",
    "\n",
    "print('Hello World!')\n"
   ]
  }
 ],
 "metadata": {
  "kernelspec": {
   "display_name": "Python 3",
   "language": "python",
   "name": "python3"
  },
  "language_info": {
   "codemirror_mode": {
    "name": "ipython",
    "version": 3
   },
   "file_extension": ".py",
   "mimetype": "text/x-python",
   "name": "python",
   "nbconvert_exporter": "python",
   "pygments_lexer": "ipython3",
   "version": "3.11.1"
  },
  "orig_nbformat": 4,
  "vscode": {
   "interpreter": {
    "hash": "b34ede01d81fec1e4bfaa8b72a495b9f5a0f08fdd35af1450f968fec728efb6d"
   }
  }
 },
 "nbformat": 4,
 "nbformat_minor": 2
}
